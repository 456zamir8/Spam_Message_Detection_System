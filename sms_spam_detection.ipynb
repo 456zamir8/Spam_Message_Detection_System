{
 "cells": [
  {
   "cell_type": "markdown",
   "id": "406d0c29",
   "metadata": {},
   "source": [
    "## **Libraries**"
   ]
  },
  {
   "cell_type": "code",
   "execution_count": null,
   "id": "476c236f",
   "metadata": {},
   "outputs": [],
   "source": [
    "import pandas as pd \n",
    "import numpy as np\n",
    "import matplotlib.pyplot as plt\n",
    "import seaborn as sns\n",
    "import pickle\n",
    "import joblib\n",
    "\n",
    "from wordcloud import WordCloud\n",
    "\n",
    "import string\n",
    "import nltk\n",
    "from nltk.corpus import stopwords\n",
    "from nltk.stem.porter import PorterStemmer\n",
    "from sklearn.feature_extraction.text import CountVectorizer, TfidfVectorizer\n",
    "\n",
    "from sklearn.model_selection import train_test_split, cross_validate\n",
    "from sklearn.metrics import accuracy_score, classification_report, confusion_matrix, precision_score\n",
    "\n",
    "# models\n",
    "from sklearn.naive_bayes import GaussianNB, MultinomialNB, BernoulliNB\n",
    "from sklearn.neighbors import KNeighborsClassifier\n",
    "from sklearn.tree import DecisionTreeClassifier\n",
    "from xgboost import XGBClassifier\n",
    "from sklearn.ensemble import RandomForestClassifier\n",
    "from sklearn.linear_model import LogisticRegression\n",
    "\n",
    "from sklearn.preprocessing import LabelEncoder\n",
    "from imblearn.over_sampling import SMOTE\n",
    "\n",
    "import warnings\n",
    "warnings.filterwarnings('ignore')"
   ]
  },
  {
   "cell_type": "markdown",
   "id": "07a622e3",
   "metadata": {},
   "source": [
    "## **Date Loading**"
   ]
  },
  {
   "cell_type": "code",
   "execution_count": null,
   "id": "0217112a",
   "metadata": {},
   "outputs": [],
   "source": [
    "data = pd.read_csv(r'C:\\Users\\zamir\\zamir\\data analysis\\SMS_Spam\\spam.csv', encoding='latin-1')\n",
    "\n",
    "data_original = data.copy()"
   ]
  },
  {
   "cell_type": "code",
   "execution_count": null,
   "id": "67b8fb2a",
   "metadata": {},
   "outputs": [],
   "source": [
    "data_original.head()"
   ]
  },
  {
   "cell_type": "code",
   "execution_count": null,
   "id": "aee548eb",
   "metadata": {},
   "outputs": [],
   "source": [
    "data_original.info()"
   ]
  },
  {
   "cell_type": "code",
   "execution_count": null,
   "id": "7322c1e8",
   "metadata": {},
   "outputs": [],
   "source": [
    "data_original.isnull().sum()"
   ]
  },
  {
   "cell_type": "code",
   "execution_count": null,
   "id": "3cc86440",
   "metadata": {},
   "outputs": [],
   "source": [
    "data_original.describe()"
   ]
  },
  {
   "cell_type": "markdown",
   "id": "5063acb0",
   "metadata": {},
   "source": [
    "## **Data Cleaning**"
   ]
  },
  {
   "cell_type": "markdown",
   "id": "c17cc064",
   "metadata": {},
   "source": [
    "### **1. Data Cleaning**"
   ]
  },
  {
   "cell_type": "code",
   "execution_count": null,
   "id": "21a6fce9",
   "metadata": {},
   "outputs": [],
   "source": [
    "# Droping unnecessary columns\n",
    "data.drop(columns=['Unnamed: 2', 'Unnamed: 3', 'Unnamed: 4'], inplace=True)\n",
    "\n",
    "# Renaming columns\n",
    "data.rename(columns={'v1': 'target', 'v2': 'text'}, inplace=True)"
   ]
  },
  {
   "cell_type": "code",
   "execution_count": null,
   "id": "8cc9f995",
   "metadata": {},
   "outputs": [],
   "source": [
    "# Apply label encoder in target columns\n",
    "encoder = LabelEncoder()\n",
    "\n",
    "data['target'] = encoder.fit_transform(data['target']) # ham: 0, spam: 1\n",
    "\n",
    "# Save the encoder\n",
    "with open('Label_Encoder.pkl', 'wb') as file:\n",
    "    pickle.dump(encoder, file)"
   ]
  },
  {
   "cell_type": "code",
   "execution_count": null,
   "id": "3672c39a",
   "metadata": {},
   "outputs": [],
   "source": [
    "# Remove duplicates\n",
    "data.drop_duplicates(inplace=True, keep='first')"
   ]
  },
  {
   "cell_type": "markdown",
   "id": "36ce7ff5",
   "metadata": {},
   "source": [
    "### **2. Data Preprocessing**"
   ]
  },
  {
   "cell_type": "code",
   "execution_count": null,
   "id": "11ae9ae5",
   "metadata": {},
   "outputs": [],
   "source": [
    "def transform_text(text):\n",
    "\n",
    "    text = text.lower()\n",
    "    text = nltk.word_tokenize(text)\n",
    "    text = [word for word in text if word.isalnum()]\n",
    "    text = [word for word in text if word not in stopwords.words('english') and word not in string.punctuation]\n",
    "    text = [PorterStemmer().stem(word) for word in text]\n",
    "    text = ' '.join(text)\n",
    "    \n",
    "    return text "
   ]
  },
  {
   "cell_type": "code",
   "execution_count": null,
   "id": "a6afb469",
   "metadata": {},
   "outputs": [],
   "source": [
    "data['transformed_text'] = data['text'].apply(transform_text)"
   ]
  },
  {
   "cell_type": "code",
   "execution_count": null,
   "id": "93425332",
   "metadata": {},
   "outputs": [],
   "source": [
    "data.duplicated().sum()\n",
    "data.info()\n",
    "data.shape"
   ]
  },
  {
   "cell_type": "markdown",
   "id": "d042c555",
   "metadata": {},
   "source": [
    "## **EDA**"
   ]
  },
  {
   "cell_type": "markdown",
   "id": "29f54868",
   "metadata": {},
   "source": [
    "### **1. Numerical Feature Analysis**"
   ]
  },
  {
   "cell_type": "markdown",
   "id": "7ebef594",
   "metadata": {},
   "source": [
    "#### **1. Target Analysis**"
   ]
  },
  {
   "cell_type": "code",
   "execution_count": null,
   "id": "58faaba9",
   "metadata": {},
   "outputs": [],
   "source": [
    "data['target'].value_counts()"
   ]
  },
  {
   "cell_type": "code",
   "execution_count": null,
   "id": "0eaace7d",
   "metadata": {},
   "outputs": [],
   "source": [
    "plt.figure(figsize=(10, 6))\n",
    "sns.barplot(x=data['target'].value_counts().index, y=data['target'].value_counts().values, palette='viridis')\n",
    "plt.xlabel('Target')\n",
    "plt.ylabel('Count')\n",
    "plt.title('Distribution of Target Variable')\n",
    "plt.show()"
   ]
  },
  {
   "cell_type": "markdown",
   "id": "b46107bc",
   "metadata": {},
   "source": [
    "The target column is imbalance "
   ]
  },
  {
   "cell_type": "markdown",
   "id": "25af396d",
   "metadata": {},
   "source": [
    "#### **2. Feature Engineering**"
   ]
  },
  {
   "cell_type": "code",
   "execution_count": null,
   "id": "fa6af61f",
   "metadata": {},
   "outputs": [],
   "source": [
    "# number of text\n",
    "data['num_charecters'] = data['text'].apply(len)"
   ]
  },
  {
   "cell_type": "code",
   "execution_count": null,
   "id": "bae6dfb2",
   "metadata": {},
   "outputs": [],
   "source": [
    "# number of words\n",
    "data['num_words'] = data['text'].apply(lambda x: len(x.split()))"
   ]
  },
  {
   "cell_type": "code",
   "execution_count": null,
   "id": "37815b43",
   "metadata": {},
   "outputs": [],
   "source": [
    "# Number of Sentences\n",
    "data['num_sentences'] = data['text'].apply(lambda x: len(nltk.sent_tokenize(x)))"
   ]
  },
  {
   "cell_type": "markdown",
   "id": "f8d56ddd",
   "metadata": {},
   "source": [
    "#### **3. Ham and Spam Analysis over text**"
   ]
  },
  {
   "cell_type": "code",
   "execution_count": null,
   "id": "aecc0370",
   "metadata": {},
   "outputs": [],
   "source": [
    "# Get average values for ham and spam\n",
    "data_ham = data[data['target'] == 0].groupby('target')[['num_charecters', 'num_words', 'num_sentences']].mean()\n",
    "data_spam = data[data['target'] == 1].groupby('target')[['num_charecters', 'num_words', 'num_sentences']].mean()\n",
    "\n",
    "combined = pd.concat([data_ham, data_spam])\n",
    "combined.index = ['Ham', 'Spam']\n"
   ]
  },
  {
   "cell_type": "code",
   "execution_count": null,
   "id": "5bf042c1",
   "metadata": {},
   "outputs": [],
   "source": [
    "combined.plot(kind='bar', figsize=(10, 6), colormap='Set2')\n",
    "\n",
    "plt.title('Average Message Length Features: Ham vs Spam')\n",
    "plt.ylabel('Average Count')\n",
    "plt.xticks(rotation=0)\n",
    "plt.grid(axis='y', linestyle='--', alpha=0.7)\n",
    "plt.legend(title='Features')\n",
    "plt.tight_layout()\n",
    "plt.show()\n"
   ]
  },
  {
   "cell_type": "markdown",
   "id": "4d5ec9ed",
   "metadata": {},
   "source": [
    "#### **4. Correlation matrix**"
   ]
  },
  {
   "cell_type": "code",
   "execution_count": null,
   "id": "6e1dc277",
   "metadata": {},
   "outputs": [],
   "source": [
    "plt.figure(figsize=(10, 6))\n",
    "numeric_data = data.select_dtypes(include=['int64', 'int32'])\n",
    "sns.heatmap(numeric_data.corr(), annot=True, cmap='coolwarm', fmt='.2f', linewidths=0.5)\n",
    "plt.title('Correlation Matrix')\n",
    "plt.show()"
   ]
  },
  {
   "cell_type": "markdown",
   "id": "2eadae2b",
   "metadata": {},
   "source": [
    "#### **5. Box Plot**"
   ]
  },
  {
   "cell_type": "code",
   "execution_count": null,
   "id": "c1eb62d1",
   "metadata": {},
   "outputs": [],
   "source": [
    "def plot_boxplot(df, col):\n",
    "    for features in col:\n",
    "        plt.figure(figsize=(10, 6))\n",
    "        sns.boxplot(x=df[features])\n",
    "        plt.title(f'Box Plot of {features} by Target')\n",
    "        plt.xlabel('Target')\n",
    "        plt.ylabel(features)\n",
    "        plt.grid(axis='y', linestyle='--', alpha=0.7)\n",
    "        plt.show()\n",
    "        \n",
    "plot_boxplot(data, numeric_data)"
   ]
  },
  {
   "cell_type": "markdown",
   "id": "bf2333ea",
   "metadata": {},
   "source": [
    "### **2. Categorical Feature Analysis**"
   ]
  },
  {
   "cell_type": "markdown",
   "id": "60302993",
   "metadata": {},
   "source": [
    "#### **1. Most Frequent words in messages**"
   ]
  },
  {
   "cell_type": "code",
   "execution_count": null,
   "id": "3943063b",
   "metadata": {},
   "outputs": [],
   "source": [
    "# Create a word cloud for ham messages\n",
    "wc = WordCloud(\n",
    "    width=800, \n",
    "    height=800, \n",
    "    background_color='white', \n",
    "    max_words=200\n",
    ").generate(data[data['target'] == 0]['transformed_text'].str.cat(sep=\" \"))\n",
    "\n",
    "plt.imshow(wc)"
   ]
  },
  {
   "cell_type": "code",
   "execution_count": null,
   "id": "35f6f604",
   "metadata": {},
   "outputs": [],
   "source": [
    "# Create a word cloud for spam messages\n",
    "wc = WordCloud(\n",
    "    width=800, \n",
    "    height=800, \n",
    "    background_color='white', \n",
    "    max_words=200\n",
    ").generate(data[data['target'] == 1]['transformed_text'].str.cat(sep=\" \"))\n",
    "\n",
    "plt.imshow(wc)"
   ]
  },
  {
   "cell_type": "markdown",
   "id": "cadcec26",
   "metadata": {},
   "source": [
    "#### **Top 30 words in Spam and Ham messages**"
   ]
  },
  {
   "cell_type": "code",
   "execution_count": null,
   "id": "7b1f5576",
   "metadata": {},
   "outputs": [],
   "source": [
    "# Spam\n",
    "spam_corpus = []\n",
    "\n",
    "for text in data[data['target'] == 1]['transformed_text'].to_list():\n",
    "    for words in text.split():\n",
    "        spam_corpus.append(words)\n",
    "\n",
    "# Ham\n",
    "ham_corpus = []\n",
    "\n",
    "for text in data[data['target'] == 0]['transformed_text'].to_list():\n",
    "    for words in text.split():\n",
    "        ham_corpus.append(words)"
   ]
  },
  {
   "cell_type": "code",
   "execution_count": null,
   "id": "88650be0",
   "metadata": {},
   "outputs": [],
   "source": [
    "print(len(spam_corpus), len(ham_corpus))"
   ]
  },
  {
   "cell_type": "code",
   "execution_count": null,
   "id": "29e15510",
   "metadata": {},
   "outputs": [],
   "source": [
    "def most_frequent_words(col):\n",
    "    word_count = {}\n",
    "\n",
    "    for word in col:\n",
    "        if word in word_count:\n",
    "            word_count[word] += 1\n",
    "        else:\n",
    "            word_count[word] = 1\n",
    "\n",
    "    sorted_words = sorted(word_count.items(), key=lambda item: item[1], reverse=True)\n",
    "    top_30_words = sorted_words[:30]\n",
    "\n",
    "    result = [{'word': word, 'count': count} for word, count in top_30_words]\n",
    "    return result"
   ]
  },
  {
   "cell_type": "code",
   "execution_count": null,
   "id": "b31fd060",
   "metadata": {},
   "outputs": [],
   "source": [
    "# Ham\n",
    "data_ham = most_frequent_words(ham_corpus)\n",
    "df_ham = pd.DataFrame(data_ham) \n",
    "\n",
    "plt.figure(figsize=(12, 6))\n",
    "\n",
    "plt.subplot(1, 2, 1)\n",
    "sns.barplot(data=df_ham, x='word', y='count', palette='viridis')\n",
    "plt.xticks(rotation='vertical')\n",
    "plt.title('Most Frequent Words in Ham Messages')\n",
    "\n",
    "# Spam\n",
    "data_spam = most_frequent_words(spam_corpus)\n",
    "df_spam = pd.DataFrame(data_spam)\n",
    "\n",
    "plt.subplot(1, 2, 2)\n",
    "sns.barplot(data=df_spam, x='word', y='count', palette='viridis')\n",
    "plt.xticks(rotation='vertical')\n",
    "plt.title('Most Frequent Words in Spam Messages')\n",
    "\n",
    "plt.tight_layout()\n",
    "plt.show()"
   ]
  },
  {
   "cell_type": "markdown",
   "id": "fcfcfba3",
   "metadata": {},
   "source": [
    "# **Model Training**"
   ]
  },
  {
   "cell_type": "markdown",
   "id": "1e5de41e",
   "metadata": {},
   "source": [
    "### **1. Spliting The Dataset**"
   ]
  },
  {
   "cell_type": "code",
   "execution_count": null,
   "id": "20f34758",
   "metadata": {},
   "outputs": [],
   "source": [
    "tfidf = TfidfVectorizer(\n",
    "    ngram_range=(1, 2),  # Use unigrams and bigrams\n",
    ")\n",
    "\n",
    "X = tfidf.fit_transform(data['transformed_text']).toarray()\n",
    "y = data['target'].values\n",
    "\n",
    "X_train, X_test, y_train, y_test = train_test_split(X, y, test_size=0.2, random_state=42)"
   ]
  },
  {
   "cell_type": "markdown",
   "id": "e4f4a3c2",
   "metadata": {},
   "source": [
    "### **2. Comparing Models**"
   ]
  },
  {
   "cell_type": "code",
   "execution_count": 32,
   "id": "4c8a1a04",
   "metadata": {},
   "outputs": [],
   "source": [
    "models = {\n",
    "    # naive bayes models\n",
    "    \"GaussianNB\": GaussianNB(),\n",
    "    \"MultinomialNB\": MultinomialNB(),\n",
    "    \"BernoulliNB\": BernoulliNB()\n",
    "}"
   ]
  },
  {
   "cell_type": "code",
   "execution_count": 33,
   "id": "b331023d",
   "metadata": {},
   "outputs": [
    {
     "name": "stdout",
     "output_type": "stream",
     "text": [
      "Evaluating GaussianNB with 5-fold cross-validation...\n",
      "test_accuracy: 0.9100\n",
      "test_precision: 0.5936\n",
      "test_recall: 0.8661\n",
      "test_f1: 0.7037\n",
      "--------------------------------------------------\n",
      "Evaluating MultinomialNB with 5-fold cross-validation...\n",
      "test_accuracy: 0.9245\n",
      "test_precision: 1.0000\n",
      "test_recall: 0.3859\n",
      "test_f1: 0.5560\n",
      "--------------------------------------------------\n",
      "Evaluating BernoulliNB with 5-fold cross-validation...\n",
      "test_accuracy: 0.8996\n",
      "test_precision: 0.9282\n",
      "test_recall: 0.1988\n",
      "test_f1: 0.3260\n",
      "--------------------------------------------------\n"
     ]
    }
   ],
   "source": [
    "cv_scores = {}\n",
    "\n",
    "scoring = {\n",
    "    'accuracy': 'accuracy',\n",
    "    'precision': 'precision',\n",
    "    'recall': 'recall',\n",
    "    'f1': 'f1'\n",
    "}\n",
    "\n",
    "for model_name, model in models.items():\n",
    "    print(f\"Evaluating {model_name} with 5-fold cross-validation...\")\n",
    "    scores = cross_validate(model, X_train, y_train, cv=5, scoring=scoring)\n",
    "    \n",
    "    cv_scores[model_name] = {\n",
    "        metric: np.mean(values) for metric, values in scores.items() if metric.startswith('test_')\n",
    "    }\n",
    "\n",
    "    # Print results\n",
    "    for metric, score in cv_scores[model_name].items():\n",
    "        print(f\"{metric}: {score:.4f}\")\n",
    "    print('-' * 50)"
   ]
  },
  {
   "cell_type": "code",
   "execution_count": 34,
   "id": "4b210621",
   "metadata": {},
   "outputs": [
    {
     "data": {
      "image/png": "[encoded data removed]",
      "text/plain": [
       "<Figure size 1000x600 with 1 Axes>"
      ]
     },
     "metadata": {},
     "output_type": "display_data"
    }
   ],
   "source": [
    "results_df = pd.DataFrame(cv_scores).T  # transpose for easier plotting\n",
    "results_df.columns = [metric.replace('test_', '').capitalize() for metric in results_df.columns]\n",
    "\n",
    "results_df.plot(kind='bar', figsize=(10, 6))\n",
    "plt.title('Cross-Validation Performance of Naive Bayes Models')\n",
    "plt.ylabel('Score')\n",
    "plt.xticks(rotation=0)\n",
    "plt.ylim(0, 1)\n",
    "plt.grid(axis='y')\n",
    "plt.legend(title='Metric')\n",
    "plt.tight_layout()\n",
    "plt.show()"
   ]
  },
  {
   "cell_type": "markdown",
   "id": "f02d3d77",
   "metadata": {},
   "source": [
    "**1. GaussianNB:**\n",
    "* Best recall (0.85): Good at catching most spam.\n",
    "\n",
    "* But very low precision (0.49): Many false positives.\n",
    "\n",
    "* Not ideal unless recall is critical (e.g., better to mark more as spam than miss any).\n",
    "\n",
    "**2. MultinomialNB:**\n",
    "* Perfect precision (1.0): No false positives.\n",
    "\n",
    "* But recall is low (0.57): Misses many spam messages.\n",
    "\n",
    "* Conservative: only marks spam when very sure.\n",
    "\n",
    "**3. BernoulliNB:**\n",
    "* Best overall balance:\n",
    "\n",
    "* High accuracy (96.6%)\n",
    "\n",
    "* High precision (0.97) and solid recall (0.74)\n",
    "\n",
    "* Best F1-score (0.84)\n",
    "\n",
    "**Best choice overall for spam detection, especially if you're using binary features (e.g., presence/absence of words).**"
   ]
  },
  {
   "cell_type": "markdown",
   "id": "0e64a118",
   "metadata": {},
   "source": [
    "### **3. Model Training**"
   ]
  },
  {
   "cell_type": "code",
   "execution_count": 35,
   "id": "ed4a1096",
   "metadata": {},
   "outputs": [
    {
     "name": "stdout",
     "output_type": "stream",
     "text": [
      "\n",
      "Evaluation before SMOTE:\n",
      "              precision    recall  f1-score   support\n",
      "\n",
      "           0       0.93      1.00      0.96       889\n",
      "           1       1.00      0.54      0.71       145\n",
      "\n",
      "    accuracy                           0.94      1034\n",
      "   macro avg       0.97      0.77      0.83      1034\n",
      "weighted avg       0.94      0.94      0.93      1034\n",
      "\n",
      "[[889   0]\n",
      " [ 66  79]]\n",
      "----------------------------------------------------------------------\n",
      "\n",
      "Evaluation after SMOTE:\n",
      "              precision    recall  f1-score   support\n",
      "\n",
      "           0       0.99      0.97      0.98       889\n",
      "           1       0.83      0.92      0.87       145\n",
      "\n",
      "    accuracy                           0.96      1034\n",
      "   macro avg       0.91      0.95      0.93      1034\n",
      "weighted avg       0.96      0.96      0.96      1034\n",
      "\n",
      "[[861  28]\n",
      " [ 11 134]]\n"
     ]
    }
   ],
   "source": [
    "model = MultinomialNB()\n",
    "model.fit(X_train, y_train)\n",
    "\n",
    "y_pred = model.predict(X_test)\n",
    "\n",
    "print(\"\\nEvaluation before SMOTE:\")\n",
    "print(classification_report(y_test, y_pred))\n",
    "print(confusion_matrix(y_test, y_pred))\n",
    "print('-' * 70)\n",
    "\n",
    "sm = SMOTE(random_state=42)\n",
    "X_train_res, y_train_res = sm.fit_resample(X_train, y_train)\n",
    "\n",
    "model.fit(X_train_res, y_train_res)\n",
    "\n",
    "# After retraining on balanced data\n",
    "y_pred_resampled = model.predict(X_test)\n",
    "\n",
    "print(\"\\nEvaluation after SMOTE:\")\n",
    "print(classification_report(y_test, y_pred_resampled))\n",
    "print(confusion_matrix(y_test, y_pred_resampled))"
   ]
  },
  {
   "cell_type": "code",
   "execution_count": 36,
   "id": "2836f223",
   "metadata": {},
   "outputs": [
    {
     "data": {
      "text/plain": [
       "['tfidf_vectorizer.pkl']"
      ]
     },
     "execution_count": 36,
     "metadata": {},
     "output_type": "execute_result"
    }
   ],
   "source": [
    "# save the model\n",
    "joblib.dump(model, 'spam_detection_model.pkl')\n",
    "\n",
    "# save the vectorizer\n",
    "joblib.dump(tfidf, 'tfidf_vectorizer.pkl')"
   ]
  },
  {
   "cell_type": "markdown",
   "id": "a8269ddb",
   "metadata": {},
   "source": [
    "# **Prediction**"
   ]
  },
  {
   "cell_type": "code",
   "execution_count": 38,
   "id": "86b4e374",
   "metadata": {},
   "outputs": [
    {
     "name": "stdout",
     "output_type": "stream",
     "text": [
      "Spam\n"
     ]
    }
   ],
   "source": [
    "# Your saved model + vectorizer\n",
    "model = joblib.load(\"spam_detection_model.pkl\")\n",
    "tfidf = joblib.load(\"tfidf_vectorizer.pkl\")\n",
    "\n",
    "# Predict a new message\n",
    "sample_text = [\"Win a free iPhone now!\"]\n",
    "transformed = [transform_text(text) for text in sample_text]\n",
    "X_input = tfidf.transform(transformed)\n",
    "prediction = model.predict(X_input)\n",
    "\n",
    "print(\"Spam\" if prediction[0] == 1 else \"Ham\")"
   ]
  }
 ],
 "metadata": {
  "kernelspec": {
   "display_name": "Python 3",
   "language": "python",
   "name": "python3"
  },
  "language_info": {
   "codemirror_mode": {
    "name": "ipython",
    "version": 3
   },
   "file_extension": ".py",
   "mimetype": "text/x-python",
   "name": "python",
   "nbconvert_exporter": "python",
   "pygments_lexer": "ipython3",
   "version": "3.11.4"
  }
 },
 "nbformat": 4,
 "nbformat_minor": 5
}
